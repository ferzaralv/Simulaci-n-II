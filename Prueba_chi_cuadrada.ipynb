{
  "nbformat": 4,
  "nbformat_minor": 0,
  "metadata": {
    "colab": {
      "provenance": [],
      "authorship_tag": "ABX9TyPafqOs+0PagATETQ9eV2GQ",
      "include_colab_link": true
    },
    "kernelspec": {
      "name": "python3",
      "display_name": "Python 3"
    },
    "language_info": {
      "name": "python"
    }
  },
  "cells": [
    {
      "cell_type": "markdown",
      "metadata": {
        "id": "view-in-github",
        "colab_type": "text"
      },
      "source": [
        "<a href=\"https://colab.research.google.com/github/ferzaralv/Simulaci-n-II/blob/main/Prueba_chi_cuadrada.ipynb\" target=\"_parent\"><img src=\"https://colab.research.google.com/assets/colab-badge.svg\" alt=\"Open In Colab\"/></a>"
      ]
    },
    {
      "cell_type": "markdown",
      "source": [
        "Prueba de bondad de Ajuste Chi cuadrada para una uniforme\n"
      ],
      "metadata": {
        "id": "Qb0sYpvBm27k"
      }
    },
    {
      "cell_type": "code",
      "execution_count": null,
      "metadata": {
        "id": "iQnAZ-Gqgz4I"
      },
      "outputs": [],
      "source": [
        "from typing import Sized\n",
        "import numpy as mp\n",
        "import math as mt\n",
        "import scipy.stats as stats\n",
        "\n",
        "#Se agrega la lista de los datos observados:\n",
        "\n",
        "x=[38, 33, 25, 5, 69, 35, 98, 52, 12, 79, 50, 46, 95, 42, 49, 11, 78, 34, 2, 43,\n",
        "7, 50, 5, 91, 77, 18, 21, 4, 17, 62, 91, 36, 48, 88, 52, 76, 99, 73, 82, 90]\n",
        "\n",
        "#Se crean dos listas donde se almacenaran las clases y la cantidad de elementos por clase\n",
        "y=[]\n",
        "z=[]\n",
        "\n",
        "#Se calcula n y el número de clases\n",
        "l=len(x)\n",
        "clas=mt.sqrt(l)\n",
        "cl=mt.trunc(clas)\n",
        "\n",
        "m=min(x)\n",
        "M=max(x)\n",
        "op=(M-m)/cl\n",
        "c=0\n",
        "cont=0\n",
        "\n",
        "#Se orenan los valores en la lista X\n",
        "x=sorted(x)\n",
        "\n",
        "\n",
        "#Se calculan los rangos de las clases\n",
        "for i in range(cl):\n",
        "  y.append(m+op)\n",
        "  m=m+op\n",
        "\n",
        "\n",
        "#Se cuentan los valores por las clases para tener las Frecuencias Observadas\n",
        "for i in range(l):\n",
        "  if x[i] <=y[c]:\n",
        "    cont=cont+1\n",
        "  else:\n",
        "    z.append(cont)\n",
        "    cont=1\n",
        "    c=c+1\n",
        "  if i==l-1:\n",
        "    z.append(cont)\n",
        "\n",
        "\n",
        "#Se calculan las frecuencias esperadas\n",
        "eij=l/cl\n",
        "x2p=0\n",
        "\n",
        "#Se calcula el estadistico de prueba\n",
        "for i in range(cl):\n",
        "  x2p=x2p+(pow(z[i]-eij,2))/eij\n",
        "\n",
        "\n",
        "#Se dan los valores de los estadisticos calculados y la confianza\n",
        "k=0\n",
        "confianza=.95\n",
        "#Se calculan la cantidad de clases, el alfa, y el valor de chi^2 con n grados de libertad y un alfa\n",
        "\n",
        "n=len(z)\n",
        "alpha=1-confianza\n",
        "chi2=stats.chi2(n-1-k)\n",
        "x2=chi2.ppf(1-alpha)\n",
        "\n",
        "\n",
        "#Se imprime la lista de datos, los rangos de las clases, los Oij, el Eij y el estadistico de Prueba y si se rechaza o no la H0\n",
        "\n",
        "print(\"Datos:  \\n\" , x)\n",
        "print(\"Rangos:  \\n\" ,y)\n",
        "print(\"Frecuencias Observadas:  \\n\" ,z)\n",
        "print(\"Frecuencias Esperadas:  \\n\" ,eij)\n",
        "print(\"Estadistico de prueba:  \\n\" ,x2p)\n",
        "print(\"Chi^2:  \\n\" ,x2)\n",
        "\n",
        "if x2p<x2:\n",
        "  print(\"No se rechaza H0\")\n",
        "else:\n",
        "  print(\"Se rechaza H0\")\n"
      ]
    }
  ]
}