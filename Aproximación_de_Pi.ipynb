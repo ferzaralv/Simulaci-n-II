{
  "cells": [
    {
      "cell_type": "markdown",
      "metadata": {
        "id": "view-in-github",
        "colab_type": "text"
      },
      "source": [
        "<a href=\"https://colab.research.google.com/github/ferzaralv/Simulaci-n-II/blob/main/Aproximaci%C3%B3n_de_Pi.ipynb\" target=\"_parent\"><img src=\"https://colab.research.google.com/assets/colab-badge.svg\" alt=\"Open In Colab\"/></a>"
      ]
    },
    {
      "cell_type": "markdown",
      "id": "a5cc0a87",
      "metadata": {
        "id": "a5cc0a87"
      },
      "source": [
        "# Aproximación de Pi"
      ]
    },
    {
      "cell_type": "markdown",
      "id": "564ca694",
      "metadata": {
        "id": "564ca694"
      },
      "source": [
        "Por simulación: Construimos el modelo en varios pasos."
      ]
    },
    {
      "cell_type": "markdown",
      "id": "fbbc8571",
      "metadata": {
        "id": "fbbc8571"
      },
      "source": [
        "**PASO 1**. Defina las variables que intervienen en el modelo."
      ]
    },
    {
      "cell_type": "code",
      "execution_count": null,
      "id": "37c5f31c",
      "metadata": {
        "id": "37c5f31c"
      },
      "outputs": [],
      "source": [
        "X1=Coordenada X\n",
        "X2=Coordenada Y"
      ]
    },
    {
      "cell_type": "markdown",
      "id": "4d3899f3",
      "metadata": {
        "id": "4d3899f3"
      },
      "source": [
        "**PASO 2**. Formule la distribución de probabilidad de cada variable."
      ]
    },
    {
      "cell_type": "markdown",
      "id": "fefa1334",
      "metadata": {
        "id": "fefa1334"
      },
      "source": [
        "\n",
        "|      |**X1**|**X2**|\n",
        "|------|-------|----------|\n",
        "|f(x)|   U(0,1)      |  U(0,1)      |"
      ]
    },
    {
      "cell_type": "markdown",
      "id": "fd02116a",
      "metadata": {
        "id": "fd02116a"
      },
      "source": [
        "**PASO 3**. Enumere la distribución acumulada de probabilidad de cada variable."
      ]
    },
    {
      "cell_type": "markdown",
      "id": "59e252c6",
      "metadata": {
        "id": "59e252c6"
      },
      "source": [
        "|      |**X1**|**X2**|\n",
        "|------|-------|----------|\n",
        "|f(x)  |       |          |\n",
        "|F(x)  |       |          |"
      ]
    },
    {
      "cell_type": "markdown",
      "id": "4852dcac",
      "metadata": {
        "id": "4852dcac"
      },
      "source": [
        "**PASO 4**. Establezca el intervalo de números aleatorios correspondiente a cada valor de cada una de las variables."
      ]
    },
    {
      "cell_type": "markdown",
      "id": "905db069",
      "metadata": {
        "id": "905db069"
      },
      "source": [
        "|           |**X1**|**X2**|\n",
        "|-----------|-------|----------|\n",
        "|f(x)       |       |          |\n",
        "|F(x)       |       |          |\n",
        "|Intervalos | (0,1)      |  (0,1)        |"
      ]
    },
    {
      "cell_type": "markdown",
      "id": "edb6b074",
      "metadata": {
        "id": "edb6b074"
      },
      "source": [
        "**PASO 5**. Genere números aleatorios."
      ]
    },
    {
      "cell_type": "code",
      "execution_count": null,
      "id": "7d56c432",
      "metadata": {
        "id": "7d56c432"
      },
      "outputs": [],
      "source": [
        "from random import random as rd\n",
        "\n",
        "x=rd()\n",
        "y=rd()\n"
      ]
    },
    {
      "cell_type": "markdown",
      "id": "f38f3396",
      "metadata": {
        "id": "f38f3396"
      },
      "source": [
        "**PASO 6**. Simule un lanzamiento."
      ]
    },
    {
      "cell_type": "markdown",
      "id": "a68ba17e",
      "metadata": {
        "id": "a68ba17e"
      },
      "source": [
        "Si (x1,x2) < sqrt(1-X^2) = Acierto\n",
        "\n",
        "Si (x1,x2) < sqrt(1-X^2) = Error"
      ]
    },
    {
      "cell_type": "markdown",
      "id": "d270399e",
      "metadata": {
        "id": "d270399e"
      },
      "source": [
        "**PASO 7**. Obtenga la gráfica de estabilización que indica que el tamaño de muestra utilizado es suficiente para\n",
        "garantizar la convergencia del resultado."
      ]
    },
    {
      "cell_type": "code",
      "execution_count": 4,
      "id": "2fd22e33",
      "metadata": {
        "id": "2fd22e33"
      },
      "outputs": [],
      "source": [
        "import numpy as np\n",
        "from random import random as rd\n",
        "import matplotlib.pyplot as plt"
      ]
    },
    {
      "cell_type": "code",
      "execution_count": 5,
      "id": "32719c0f",
      "metadata": {
        "id": "32719c0f"
      },
      "outputs": [],
      "source": [
        "from math import sqrt\n",
        "def aprox(n):\n",
        "    aciertos = 0\n",
        "    for i in range(n):\n",
        "        x1 = rd()\n",
        "        x2 = rd()\n",
        "        if x2 < sqrt(1-pow(x1,2)) :\n",
        "            aciertos += 1\n",
        "    return (4*aciertos/n)\n"
      ]
    },
    {
      "cell_type": "code",
      "execution_count": 6,
      "id": "0d2847cf",
      "metadata": {
        "id": "0d2847cf"
      },
      "outputs": [],
      "source": [
        "def experimento(iteraciones):\n",
        "    i = 0\n",
        "    favorables=0\n",
        "    Lista = []\n",
        "\n",
        "    for i in range(iteraciones):\n",
        "      appi=aprox(i+1)\n",
        "      Lista.append(appi)\n",
        "\n",
        "    return Lista\n"
      ]
    },
    {
      "cell_type": "code",
      "execution_count": 7,
      "id": "548249d8",
      "metadata": {
        "id": "548249d8"
      },
      "outputs": [],
      "source": [
        "exp = experimento(2000)"
      ]
    },
    {
      "cell_type": "code",
      "execution_count": 8,
      "id": "566325f4",
      "metadata": {
        "id": "566325f4",
        "outputId": "19f6ced0-7a03-462d-8753-269b7ecfea20",
        "colab": {
          "base_uri": "https://localhost:8080/"
        }
      },
      "outputs": [
        {
          "output_type": "execute_result",
          "data": {
            "text/plain": [
              "3.140422088103036"
            ]
          },
          "metadata": {},
          "execution_count": 8
        }
      ],
      "source": [
        "np.mean(exp)"
      ]
    },
    {
      "cell_type": "code",
      "execution_count": 9,
      "id": "ef68f87c",
      "metadata": {
        "id": "ef68f87c",
        "outputId": "700f8c6d-a219-4250-cac7-ce52d2986f02",
        "colab": {
          "base_uri": "https://localhost:8080/",
          "height": 472
        }
      },
      "outputs": [
        {
          "output_type": "display_data",
          "data": {
            "text/plain": [
              "<Figure size 640x480 with 1 Axes>"
            ],
            "image/png": "[encoded data removed]"
          },
          "metadata": {}
        }
      ],
      "source": [
        "plt.plot(exp)\n",
        "plt.xlabel('iteraciones')\n",
        "plt.ylabel('pi')\n",
        "plt.title('Aproximación de Pi')\n",
        "plt.show()"
      ]
    },
    {
      "cell_type": "markdown",
      "id": "f596fcd1",
      "metadata": {
        "id": "f596fcd1"
      },
      "source": [
        "**PASO 8**. Replique el modelo."
      ]
    },
    {
      "cell_type": "code",
      "execution_count": 10,
      "id": "b237f0d0",
      "metadata": {
        "id": "b237f0d0"
      },
      "outputs": [],
      "source": [
        "def aproximacion(repeticiones):\n",
        "    List = []\n",
        "    for i in range(repeticiones):\n",
        "        List.append(np.mean(experimento(1000)))\n",
        "    return List"
      ]
    },
    {
      "cell_type": "code",
      "execution_count": 11,
      "id": "d060db89",
      "metadata": {
        "id": "d060db89"
      },
      "outputs": [],
      "source": [
        "simulacion = aproximacion(50)"
      ]
    },
    {
      "cell_type": "code",
      "execution_count": null,
      "id": "cc0b958d",
      "metadata": {
        "id": "cc0b958d",
        "outputId": "17ac8f03-272e-426a-f2f2-cc3b9bb336e9",
        "colab": {
          "base_uri": "https://localhost:8080/",
          "height": 472
        }
      },
      "outputs": [
        {
          "output_type": "display_data",
          "data": {
            "text/plain": [
              "<Figure size 640x480 with 1 Axes>"
            ],
            "image/png": "[encoded data removed]"
          },
          "metadata": {}
        }
      ],
      "source": [
        "plt.hist(simulacion)\n",
        "plt.xlabel('iteraciones')\n",
        "plt.ylabel('pi')\n",
        "plt.title('Approximación de Pi')\n",
        "plt.show()"
      ]
    },
    {
      "cell_type": "markdown",
      "id": "6e9bd469",
      "metadata": {
        "id": "6e9bd469"
      },
      "source": [
        "**PASO 9**. Aproxime el número pi con el método de montecarlo."
      ]
    },
    {
      "cell_type": "code",
      "execution_count": 14,
      "id": "dbeb0461",
      "metadata": {
        "id": "dbeb0461",
        "outputId": "8e138e7a-054a-4dcc-fc33-8dc876ca4f9a",
        "colab": {
          "base_uri": "https://localhost:8080/"
        }
      },
      "outputs": [
        {
          "output_type": "stream",
          "name": "stdout",
          "text": [
            "3.1416088092024665 2.375216824927221e-05 0.004873619625008933\n"
          ]
        }
      ],
      "source": [
        "mu=np.mean(simulacion)\n",
        "var=np.var(simulacion)\n",
        "sigma=np.std(simulacion)\n",
        "\n",
        "print(mu,var,sigma)"
      ]
    },
    {
      "cell_type": "markdown",
      "id": "db8776d2",
      "metadata": {
        "id": "db8776d2"
      },
      "source": [
        "**PASO 10**. Halle el intervalo de confianza para el valor de pi, con un nivel de confianza del $95 \\%$."
      ]
    },
    {
      "cell_type": "code",
      "execution_count": 35,
      "id": "e5132329",
      "metadata": {
        "id": "e5132329",
        "colab": {
          "base_uri": "https://localhost:8080/"
        },
        "outputId": "a27e4521-4c86-40cd-d69d-0b9c318aaee3"
      },
      "outputs": [
        {
          "output_type": "stream",
          "name": "stdout",
          "text": [
            "Intervalo de confianza = ( 3.1320566902631013 ,  3.151160928141832 )\n"
          ]
        }
      ],
      "source": [
        "from scipy.stats import norm\n",
        "\n",
        "prob=1-.95\n",
        "\n",
        "z0=norm.ppf(prob/2, mu,sigma)\n",
        "z1=norm.ppf(1-(prob/2), mu,sigma)\n",
        "\n",
        "print(\"Intervalo de confianza = (\", z0, \", \", z1, \")\")"
      ]
    }
  ],
  "metadata": {
    "kernelspec": {
      "display_name": "Python 3 (ipykernel)",
      "language": "python",
      "name": "python3"
    },
    "language_info": {
      "codemirror_mode": {
        "name": "ipython",
        "version": 3
      },
      "file_extension": ".py",
      "mimetype": "text/x-python",
      "name": "python",
      "nbconvert_exporter": "python",
      "pygments_lexer": "ipython3",
      "version": "3.7.3"
    },
    "colab": {
      "provenance": [],
      "include_colab_link": true
    }
  },
  "nbformat": 4,
  "nbformat_minor": 5
}