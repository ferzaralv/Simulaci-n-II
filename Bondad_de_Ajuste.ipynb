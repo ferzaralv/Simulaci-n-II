{
  "nbformat": 4,
  "nbformat_minor": 0,
  "metadata": {
    "colab": {
      "provenance": [],
      "authorship_tag": "ABX9TyOr5LOIXfQBsltwUVvd+5QF",
      "include_colab_link": true
    },
    "kernelspec": {
      "name": "python3",
      "display_name": "Python 3"
    },
    "language_info": {
      "name": "python"
    }
  },
  "cells": [
    {
      "cell_type": "markdown",
      "metadata": {
        "id": "view-in-github",
        "colab_type": "text"
      },
      "source": [
        "<a href=\"https://colab.research.google.com/github/ferzaralv/Simulaci-n-II/blob/main/Bondad_de_Ajuste.ipynb\" target=\"_parent\"><img src=\"https://colab.research.google.com/assets/colab-badge.svg\" alt=\"Open In Colab\"/></a>"
      ]
    },
    {
      "cell_type": "markdown",
      "source": [
        "Ejercico 3:"
      ],
      "metadata": {
        "id": "I8kc7j_2a3_C"
      }
    },
    {
      "cell_type": "code",
      "execution_count": null,
      "metadata": {
        "colab": {
          "base_uri": "https://localhost:8080/"
        },
        "id": "OrAdpozINsuL",
        "outputId": "c90bf624-9f79-4025-8797-0a43654d2d2e"
      },
      "outputs": [
        {
          "output_type": "stream",
          "name": "stdout",
          "text": [
            "[2, 4, 5, 5, 7, 11, 12, 17, 18, 21, 25, 33, 34, 35, 36, 38, 42, 43, 46, 48, 49, 50, 50, 52, 52, 62, 69, 73, 76, 77, 78, 79, 82, 88, 90, 91, 91, 95, 98, 99]\n",
            "[18.166666666666668, 34.333333333333336, 50.5, 66.66666666666667, 82.83333333333334, 99.00000000000001]\n",
            "[9, 4, 10, 3, 7, 7]\n",
            "6.666666666666667\n",
            "5.6\n"
          ]
        }
      ],
      "source": [
        "from typing import Sized\n",
        "import numpy as mp\n",
        "import math as mt\n",
        "\n",
        "x=[38, 33, 25, 5, 69, 35, 98, 52, 12, 79, 50, 46, 95, 42, 49, 11, 78, 34, 2, 43,\n",
        "7, 50, 5, 91, 77, 18, 21, 4, 17, 62, 91, 36, 48, 88, 52, 76, 99, 73, 82, 90]\n",
        "\n",
        "y=[]\n",
        "z=[]\n",
        "l=len(x)\n",
        "clas=mt.sqrt(l)\n",
        "cl=mt.trunc(clas)\n",
        "m=min(x)\n",
        "M=max(x)\n",
        "op=(M-m)/cl\n",
        "c=0\n",
        "cont=0\n",
        "x=sorted(x)\n",
        "\n",
        "for i in range(cl):\n",
        "  y.append(m+op)\n",
        "  m=m+op\n",
        "\n",
        "for i in range(l):\n",
        "  if x[i] <=y[c]:\n",
        "    cont=cont+1\n",
        "  else:\n",
        "    z.append(cont)\n",
        "    cont=1\n",
        "    c=c+1\n",
        "  if i==l-1:\n",
        "    z.append(cont)\n",
        "\n",
        "eij=l/cl\n",
        "x2p=0\n",
        "\n",
        "for i in range(cl):\n",
        "  x2p=x2p+(pow(z[i]-eij,2))/eij\n",
        "\n",
        "print(x)\n",
        "\n",
        "print(y)\n",
        "\n",
        "print(z)\n",
        "\n",
        "print(eij)\n",
        "\n",
        "print(x2p)\n"
      ]
    },
    {
      "cell_type": "markdown",
      "source": [
        "Ejercico 4:"
      ],
      "metadata": {
        "id": "vX-BxqPSa9G3"
      }
    },
    {
      "cell_type": "code",
      "source": [
        "from typing import Sized\n",
        "import numpy as mp\n",
        "import math as mt\n",
        "\n",
        "x=[0.8797, 0.3884, 0.6289, 0.8750, 0.5999, 0.8589, 0.9996, 0.2415, 0.3808, 0.9606,\n",
        "0.9848, 0.3469, 0.7977, 0.5844, 0.8147, 0.6431, 0.7387, 0.5613, 0.0318, 0.7401,\n",
        "0.4557, 0.1592, 0.8536, 0.8846, 0.3410, 0.1492, 0.8681, 0.5291, 0.3188, 0.5992,\n",
        "0.9170, 0.2204, 0.5991, 0.5461, 0.5739, 0.3254, 0.0856, 0.2258, 0.4603, 0.5027,\n",
        "0.8376, 0.6235, 0.3681, 0.2088, 0.1525, 0.2006, 0.4720, 0.4272, 0.6360, 0.0954]\n",
        "\n",
        "y=[]\n",
        "z=[]\n",
        "l=len(x)\n",
        "clas=mt.sqrt(l)\n",
        "cl=mt.trunc(clas)\n",
        "m=min(x)\n",
        "M=max(x)\n",
        "op=(M-m)/cl\n",
        "c=0\n",
        "cont=0\n",
        "x=sorted(x)\n",
        "\n",
        "for i in range(cl):\n",
        "  y.append(m+op)\n",
        "  m=m+op\n",
        "\n",
        "for i in range(l):\n",
        "  if x[i] <=y[c]:\n",
        "    cont=cont+1\n",
        "  else:\n",
        "    z.append(cont)\n",
        "    cont=1\n",
        "    c=c+1\n",
        "  if i==l-1:\n",
        "    z.append(cont)\n",
        "\n",
        "eij=l/cl\n",
        "x2p=0\n",
        "\n",
        "for i in range(cl):\n",
        "  x2p=x2p+(pow(z[i]-eij,2))/eij\n",
        "\n",
        "print(x)\n",
        "\n",
        "print(y)\n",
        "\n",
        "print(z)\n",
        "\n",
        "print(eij)\n",
        "\n",
        "print(x2p)\n"
      ],
      "metadata": {
        "colab": {
          "base_uri": "https://localhost:8080/"
        },
        "id": "wyUA6SXmb5Ta",
        "outputId": "bf9f0991-c99d-4746-805d-31378adde4ef"
      },
      "execution_count": null,
      "outputs": [
        {
          "output_type": "stream",
          "name": "stdout",
          "text": [
            "[0.0318, 0.0856, 0.0954, 0.1492, 0.1525, 0.1592, 0.2006, 0.2088, 0.2204, 0.2258, 0.2415, 0.3188, 0.3254, 0.341, 0.3469, 0.3681, 0.3808, 0.3884, 0.4272, 0.4557, 0.4603, 0.472, 0.5027, 0.5291, 0.5461, 0.5613, 0.5739, 0.5844, 0.5991, 0.5992, 0.5999, 0.6235, 0.6289, 0.636, 0.6431, 0.7387, 0.7401, 0.7977, 0.8147, 0.8376, 0.8536, 0.8589, 0.8681, 0.875, 0.8797, 0.8846, 0.917, 0.9606, 0.9848, 0.9996]\n",
            "[0.17005714285714285, 0.3083142857142857, 0.44657142857142856, 0.5848285714285715, 0.7230857142857143, 0.8613428571428572, 0.9996]\n",
            "[6, 5, 8, 9, 7, 7, 8]\n",
            "7.142857142857143\n",
            "1.52\n"
          ]
        }
      ]
    }
  ]
}